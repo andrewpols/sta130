{
 "cells": [
  {
   "cell_type": "markdown",
   "id": "b7b02114",
   "metadata": {},
   "source": [
    "# Homework 02 - 19 September, 2024\n"
   ]
  },
  {
   "cell_type": "markdown",
   "id": "ba73642c",
   "metadata": {},
   "source": [
    "# 1. Monty Hall Problem - Python Simulation\n",
    "\n",
    "Given a program simulating the Monty Hall scenario provided by Professor Schwartz, we ask ChatGPT to explain the code in its statistical and programming context in order to fully understand the problem and be able to analyze its results."
   ]
  },
  {
   "cell_type": "code",
   "execution_count": 13,
   "id": "42174371",
   "metadata": {},
   "outputs": [
    {
     "data": {
      "text/plain": [
       "0.66576"
      ]
     },
     "execution_count": 13,
     "metadata": {},
     "output_type": "execute_result"
    }
   ],
   "source": [
    "# Code from Prof. Schwartz\n",
    "\n",
    "import numpy as np\n",
    "all_door_options = (1,2,3)  # tuple\n",
    "my_door_choice = 1  # 1,2,3\n",
    "i_won = 0\n",
    "reps = 100000\n",
    "for i in range(reps):\n",
    "    secret_winning_door = np.random.choice(all_door_options)\n",
    "    all_door_options_list = list(all_door_options)\n",
    "    # take the secret_winning_door, so we don't show it as a \"goat\" losing door\n",
    "    all_door_options_list.remove(secret_winning_door)\n",
    "    try:\n",
    "        # if my_door_choice was secret_winning_door then it's already removed\n",
    "        all_door_options_list.remove(my_door_choice)\n",
    "    except:\n",
    "        pass\n",
    "    # show a \"goat\" losing door and remove it\n",
    "    goat_door_reveal = np.random.choice(all_door_options_list)\n",
    "    all_door_options_list.remove(goat_door_reveal)\n",
    "\n",
    "    # put the secret_winning_door back in if it wasn't our choice\n",
    "    # we previously removed it, so it would be shown as a  \"goat\" losing door\n",
    "    if secret_winning_door != my_door_choice:\n",
    "        all_door_options_list.append(secret_winning_door)\n",
    "    # if secret_winning_door was our choice then all that's left in the list is a \"goat\" losing door\n",
    "    # if secret_winning_door wasn't our choice then it's all that will be left in the list\n",
    "\n",
    "    # swap strategy\n",
    "    my_door_choice = all_door_options_list[0]\n",
    "\n",
    "    if my_door_choice == secret_winning_door:\n",
    "        i_won += 1\n",
    "\n",
    "i_won/reps"
   ]
  },
  {
   "cell_type": "markdown",
   "id": "5ff7810d",
   "metadata": {},
   "source": [
    "## Chat-GPT's Response:\n",
    "\n",
    "This code simulates the Monty Hall problem over 100,000 iterations to illustrate the probability of winning when always using the strategy of switching doors after a goat is revealed.\n",
    "\n",
    "1. **Initialization:**\n",
    "   - `all_door_options = (1, 2, 3)` defines the three doors in the game.\n",
    "   - The player always starts by choosing door 1 (`my_door_choice = 1`).\n",
    "   - `i_won = 0` keeps track of how many times the player wins, while `reps = 100,000` defines the number of trials.\n",
    "\n",
    "2. **Simulating a Single Game (Looped 100,000 Times):**\n",
    "   - A random winning door (`secret_winning_door = np.random.choice(all_door_options)`) is selected, representing where the car is hidden.\n",
    "   - A copy of the door list is created (`all_door_options_list = list(all_door_options)`) to allow for manipulation.\n",
    "   \n",
    "3. **Goat Door Removal:**\n",
    "   - The code removes the `secret_winning_door` from the list to ensure it won’t be selected as a goat door.\n",
    "   - It then tries to remove `my_door_choice` (the player's original choice of door 1). If door 1 was already the winning door, this removal is skipped using a `try-except` block.\n",
    "   \n",
    "4. **Revealing a Goat Door:**\n",
    "   - From the remaining doors (excluding the player’s choice and the winning door), the code randomly selects one as the \"goat door\" to reveal (`goat_door_reveal = np.random.choice(all_door_options_list)`).\n",
    "   - This simulates Monty Hall opening a door to show a goat. The goat door is then removed from the list.\n",
    "\n",
    "5. **Switching Strategy:**\n",
    "   - After the goat door is revealed, the player is left with one remaining unopened door. If the player’s original choice was not the winning door, the code adds the winning door back to the list (`all_door_options_list.append(secret_winning_door)`).\n",
    "   - The player then switches to the only remaining door (`my_door_choice = all_door_options_list[0]`), simulating the switching strategy.\n",
    "\n",
    "6. **Win Check:**\n",
    "   - After switching, the code checks if the player's new choice matches the winning door (`if my_door_choice == secret_winning_door`).\n",
    "   - If the player has won (i.e., chosen the door with the car), the win counter (`i_won`) is incremented.\n",
    "\n",
    "7. **Final Calculation:**\n",
    "   - Once the simulation runs through all 100,000 repetitions, the proportion of games won by switching is calculated (`i_won/reps`).\n",
    "   - This ratio approximates the probability of winning when following the switching strategy, which should be close to 2/3. This result reflects the theoretical outcome of the Monty Hall problem: switching doors significantly increases the player’s chances of winning compared to sticking with the original choice (which only wins 1/3 of the time).\n",
    "\n",
    "This simulation demonstrates the counterintuitive result that switching doors is the optimal strategy, and provides empirical evidence of the advantage through repeated trials."
   ]
  },
  {
   "cell_type": "markdown",
   "id": "efa5da3f",
   "metadata": {},
   "source": [
    "# 2. Simplified For Loop"
   ]
  },
  {
   "cell_type": "markdown",
   "id": "63a26352",
   "metadata": {},
   "source": [
    "When prompted to streamline the original code provided, Chat-GPT preferred to use a list comprehension ( `[x for x in collection]` ). It utilized boolean comparisons within each comprehension in order to filter the elements of each list to the constrained conditions. <br><br>\n",
    "\n",
    "This decreases the amount if if statements and overall makes the code a lot cleaner. List comprehensions are a fairly beginner-friendly concept and an easy way to condense code into one readable line.\n",
    "\n",
    "Take the example of choosing a goat door:\n",
    "- Instead of looping over all doors and finding which one is neither the chosen door or the winning door, we make a list of all doors that satisfy these conditions and let numpy pick a random one from such a collection."
   ]
  },
  {
   "cell_type": "code",
   "execution_count": 6,
   "id": "825f164e",
   "metadata": {},
   "outputs": [
    {
     "data": {
      "text/plain": [
       "0.66645"
      ]
     },
     "execution_count": 6,
     "metadata": {},
     "output_type": "execute_result"
    }
   ],
   "source": [
    "# import numpy for random operations and define variables\n",
    "\n",
    "import numpy as np\n",
    "all_door_options = (1, 2, 3)\n",
    "my_door_choice = 1\n",
    "i_won = 0\n",
    "reps = 100000\n",
    "\n",
    "for i in range(reps):\n",
    "    \n",
    "    # Use np to randomly choose a door to be the winner\n",
    "    secret_winning_door = np.random.choice(all_door_options)\n",
    "    \n",
    "    ### Monty reveals a goat door that's neither the player's choice nor the winning door\n",
    "\n",
    "    # Possible goat doors will not be the winning door, nor will it be the chosen door\n",
    "    remaining_doors = [door for door in all_door_options if door != my_door_choice and door != secret_winning_door]\n",
    "    \n",
    "    # Choose a random goat door from the options defined above\n",
    "    goat_door_reveal = np.random.choice(remaining_doors)\n",
    "    \n",
    "    # Other available door that is unopened (Not the chosen door AND not the goat door)\n",
    "    other_available_doors = [door for door in all_door_options if door != my_door_choice and door != goat_door_reveal]\n",
    "    \n",
    "    # Switch to the other unopened door\n",
    "    switched_choice = other_available_doors[0]\n",
    "    \n",
    "    # Check if switching wins\n",
    "    if switched_choice == secret_winning_door:\n",
    "        i_won += 1\n",
    "\n",
    "# Calculate win rate (win rate = total wins / total attempts)\n",
    "i_won / reps"
   ]
  },
  {
   "cell_type": "markdown",
   "id": "15e4b933",
   "metadata": {},
   "source": [
    "___\n",
    "\n",
    "# 3. Commented Final Code\n",
    "\n",
    "I had commented most of the code in Q2., but asked Chat-GPT to refine my comments for greater clarity by adding comments and cleaning up existing comments. The result is shown below.\n",
    "\n",
    "NOTE: While these are GPT's comments, they are mostly based off my original comments in Q2. (showing that I understand the code's steps and purpose)."
   ]
  },
  {
   "cell_type": "code",
   "execution_count": 7,
   "id": "04cf0ef1",
   "metadata": {},
   "outputs": [
    {
     "data": {
      "text/plain": [
       "0.66679"
      ]
     },
     "execution_count": 7,
     "metadata": {},
     "output_type": "execute_result"
    }
   ],
   "source": [
    "# Import the numpy library to use random functions and define key variables\n",
    "import numpy as np\n",
    "\n",
    "# Define the available doors (1, 2, 3) as a tuple\n",
    "all_door_options = (1, 2, 3)\n",
    "\n",
    "# The player always initially chooses door 1\n",
    "my_door_choice = 1\n",
    "\n",
    "# Initialize a counter to track the number of wins when switching\n",
    "i_won = 0\n",
    "\n",
    "# Define the number of repetitions (100,000 simulations)\n",
    "reps = 100000\n",
    "\n",
    "# Loop over the number of repetitions (simulate 100,000 rounds of the game)\n",
    "for i in range(reps):\n",
    "    \n",
    "    # Randomly select one door as the winning door (the door hiding the car)\n",
    "    secret_winning_door = np.random.choice(all_door_options)\n",
    "    \n",
    "    # Determine the doors Monty can reveal (neither the player's choice nor the winning door)\n",
    "    remaining_doors = [\n",
    "        door for door in all_door_options \n",
    "        if door != my_door_choice and door != secret_winning_door\n",
    "    ]\n",
    "    \n",
    "    # Monty randomly reveals one of the remaining goat doors\n",
    "    goat_door_reveal = np.random.choice(remaining_doors)\n",
    "    \n",
    "    # Determine the other unopened door (the door the player will switch to)\n",
    "    other_available_doors = [\n",
    "        door for door in all_door_options \n",
    "        if door != my_door_choice and door != goat_door_reveal\n",
    "    ]\n",
    "    \n",
    "    # Switch the player's choice to the remaining unopened door\n",
    "    switched_choice = other_available_doors[0]\n",
    "    \n",
    "    # Check if the switched choice is the winning door (if the player wins after switching)\n",
    "    if switched_choice == secret_winning_door:\n",
    "        # Increment the win counter if the player wins by switching\n",
    "        i_won += 1\n",
    "\n",
    "# Calculate the win rate by dividing the number of wins by the total number of repetitions\n",
    "i_won / reps"
   ]
  },
  {
   "cell_type": "markdown",
   "id": "27569574",
   "metadata": {},
   "source": [
    "___\n",
    "\n",
    "# 4. Markvoain Chat Bots"
   ]
  },
  {
   "cell_type": "code",
   "execution_count": 1,
   "id": "d1d2f897",
   "metadata": {},
   "outputs": [
    {
     "data": {
      "image/jpeg": "[encoded data removed]",
      "text/html": [
       "\n",
       "        <iframe\n",
       "            width=\"550\"\n",
       "            height=\"300\"\n",
       "            src=\"https://www.youtube.com/embed/56mGTszb_iM\"\n",
       "            frameborder=\"0\"\n",
       "            allowfullscreen\n",
       "            \n",
       "        ></iframe>\n",
       "        "
      ],
      "text/plain": [
       "<IPython.lib.display.YouTubeVideo at 0x7fed6200f310>"
      ]
     },
     "execution_count": 1,
     "metadata": {},
     "output_type": "execute_result"
    }
   ],
   "source": [
    "# Markov Chains and Text Generation\n",
    "from IPython.display import YouTubeVideo\n",
    "YouTubeVideo('56mGTszb_iM', width = 550)"
   ]
  },
  {
   "cell_type": "code",
   "execution_count": 3,
   "id": "0942f690",
   "metadata": {},
   "outputs": [
    {
     "ename": "NameError",
     "evalue": "name 'words' is not defined",
     "output_type": "error",
     "traceback": [
      "\u001b[0;31m---------------------------------------------------------------------------\u001b[0m",
      "\u001b[0;31mNameError\u001b[0m                                 Traceback (most recent call last)",
      "Cell \u001b[0;32mIn[3], line 5\u001b[0m\n\u001b[1;32m      3\u001b[0m word_used \u001b[38;5;241m=\u001b[39m \u001b[38;5;28mdict\u001b[39m() \u001b[38;5;66;03m# defaultdict(int)\u001b[39;00m\n\u001b[1;32m      4\u001b[0m next_word \u001b[38;5;241m=\u001b[39m \u001b[38;5;28mdict\u001b[39m() \u001b[38;5;66;03m# defaultdict(lambda: defaultdict(int))\u001b[39;00m\n\u001b[0;32m----> 5\u001b[0m \u001b[38;5;28;01mfor\u001b[39;00m i,word \u001b[38;5;129;01min\u001b[39;00m \u001b[38;5;28menumerate\u001b[39m(\u001b[43mwords\u001b[49m[:\u001b[38;5;241m-\u001b[39m\u001b[38;5;241m1\u001b[39m]):\n\u001b[1;32m      7\u001b[0m     \u001b[38;5;28;01mif\u001b[39;00m word \u001b[38;5;129;01min\u001b[39;00m word_used:\n\u001b[1;32m      8\u001b[0m         word_used[word] \u001b[38;5;241m+\u001b[39m\u001b[38;5;241m=\u001b[39m \u001b[38;5;241m1\u001b[39m\n",
      "\u001b[0;31mNameError\u001b[0m: name 'words' is not defined"
     ]
    }
   ],
   "source": [
    "# Markovian Chatbot\n",
    "# from collections import defaultdict\n",
    "word_used = dict() # defaultdict(int)\n",
    "next_word = dict() # defaultdict(lambda: defaultdict(int))\n",
    "for i,word in enumerate(words[:-1]):\n",
    "\n",
    "    if word in word_used:\n",
    "        word_used[word] += 1\n",
    "    else:\n",
    "        word_used[word] = 1\n",
    "        next_word[word] = {}\n",
    "\n",
    "    if words[i+1] in next_word[word]:\n",
    "        next_word[word][words[i+1]] += 1\n",
    "    else:\n",
    "        next_word[word][words[i+1]] = 1"
   ]
  },
  {
   "cell_type": "markdown",
   "id": "3f97ced0",
   "metadata": {},
   "source": [
    "### Detailed Code Description:\n",
    "\n",
    "The provided code is a simple implementation of a **Markovian chatbot** that learns word transitions from a sequence of words. Here's a more detailed explanation of the code and its components:\n",
    "\n",
    "#### Key Variables:\n",
    "1. **`word_used`**: \n",
    "   - This is a dictionary where each word in the training data is a key, and the value is the count of how many times that word appears. However, as discussed later, this isn't strictly necessary for the chatbot’s functionality.\n",
    "   \n",
    "2. **`next_word`**: \n",
    "   - This is the key data structure for a Markovian model. It is a **nested dictionary** where:\n",
    "     - The first dictionary has each word as a key.\n",
    "     - The value for each word is another dictionary that tracks how many times each subsequent word follows it.\n",
    "\n",
    "#### Code Breakdown:\n",
    "- The loop `for i, word in enumerate(words[:-1])` iterates through the list of words (`words`) but stops one word before the last word, ensuring there is always a `next_word` to check. Each word serves as the current word (`word`), and the code checks what word follows it (`words[i+1]`).\n",
    "\n",
    "- **Word Counting (`word_used`)**:\n",
    "   - For each word, the code checks if it already exists in the `word_used` dictionary.\n",
    "     - If it does, the count is incremented.\n",
    "     - If not, the word is added to `word_used` with an initial count of 1. It also creates an entry for that word in `next_word`.\n",
    "\n",
    "- **Next Word Counting (`next_word`)**:\n",
    "   - For each word, the code tracks the word that comes immediately after it (`words[i+1]`).\n",
    "   - The code checks if the next word is already in the nested dictionary for the current word in `next_word`.\n",
    "     - If it is, its count is incremented.\n",
    "     - If not, the next word is added with an initial count of 1.\n",
    "   \n",
    "#### How This Relates to Markov Models:\n",
    "This code builds a **first-order Markov chain** by recording the transitions between words in the `next_word` dictionary. In a Markov chain:\n",
    "- Each word is considered a \"state.\"\n",
    "- The transitions between states (words) are determined by how often one word follows another, as recorded in `next_word`.\n",
    "\n",
    "When the chatbot generates a response, it can look at the current word, consult the `next_word` dictionary, and probabilistically choose the next word based on observed transitions.\n",
    "\n",
    "---\n",
    "\n",
    "### Rest of the Summary:\n",
    "\n",
    "#### Focus on Transition Frequencies:\n",
    "- In a Markovian model, **the critical information** is how many times a word follows another, rather than how many times the word appears in isolation.\n",
    "- The **`next_word` dictionary** provides this, storing the frequency of transitions between words, which is crucial for generating sentences.\n",
    "\n",
    "#### Clarification on Word Frequencies (`word_used`):\n",
    "- While **word frequencies** (from `word_used`) are useful for some models, they are **not essential** to the chatbot's core functionality of generating word sequences.\n",
    "- The focus is on **transition probabilities**—how frequently one word follows another—which allows the chatbot to maintain a coherent flow in conversation.\n",
    "\n",
    "In conclusion, this discussion highlighted the essentials of a Markovian chatbot, emphasizing that transitions between words, as captured by the `next_word` dictionary, are key to predicting the next word and generating text.\n",
    "\n",
    "___"
   ]
  },
  {
   "cell_type": "markdown",
   "id": "c45a5bf7",
   "metadata": {},
   "source": [
    "# 5. Markovian ChatBot Extensions"
   ]
  },
  {
   "cell_type": "code",
   "execution_count": 1,
   "id": "2f06f6dd",
   "metadata": {},
   "outputs": [
    {
     "ename": "NameError",
     "evalue": "name 'defaultdict' is not defined",
     "output_type": "error",
     "traceback": [
      "\u001b[0;31m---------------------------------------------------------------------------\u001b[0m",
      "\u001b[0;31mNameError\u001b[0m                                 Traceback (most recent call last)",
      "Cell \u001b[0;32mIn[1], line 3\u001b[0m\n\u001b[1;32m      1\u001b[0m \u001b[38;5;66;03m# Markovian Chatbot Extension #1\u001b[39;00m\n\u001b[0;32m----> 3\u001b[0m word_used2 \u001b[38;5;241m=\u001b[39m \u001b[43mdefaultdict\u001b[49m(\u001b[38;5;28mint\u001b[39m)\n\u001b[1;32m      4\u001b[0m next_word2 \u001b[38;5;241m=\u001b[39m defaultdict(\u001b[38;5;28;01mlambda\u001b[39;00m: defaultdict(\u001b[38;5;28mint\u001b[39m))\n\u001b[1;32m      5\u001b[0m \u001b[38;5;28;01mfor\u001b[39;00m i,word \u001b[38;5;129;01min\u001b[39;00m \u001b[38;5;28menumerate\u001b[39m(words[:\u001b[38;5;241m-\u001b[39m\u001b[38;5;241m2\u001b[39m]):\n",
      "\u001b[0;31mNameError\u001b[0m: name 'defaultdict' is not defined"
     ]
    }
   ],
   "source": [
    "# Markovian Chatbot Extension #1\n",
    "\n",
    "word_used2 = defaultdict(int)\n",
    "next_word2 = defaultdict(lambda: defaultdict(int))\n",
    "for i,word in enumerate(words[:-2]):\n",
    "    word_used2[word+' '+words[i+1]] += 1\n",
    "    next_word2[word+' '+words[i+1]][words[i+2]] += 1 "
   ]
  },
  {
   "cell_type": "code",
   "execution_count": 2,
   "id": "d4c9c207",
   "metadata": {},
   "outputs": [
    {
     "ename": "NameError",
     "evalue": "name 'avatar' is not defined",
     "output_type": "error",
     "traceback": [
      "\u001b[0;31m---------------------------------------------------------------------------\u001b[0m",
      "\u001b[0;31mNameError\u001b[0m                                 Traceback (most recent call last)",
      "Cell \u001b[0;32mIn[2], line 5\u001b[0m\n\u001b[1;32m      3\u001b[0m \u001b[38;5;28;01mfrom\u001b[39;00m \u001b[38;5;21;01mcollections\u001b[39;00m \u001b[38;5;28;01mimport\u001b[39;00m Counter, defaultdict\n\u001b[1;32m      4\u001b[0m \u001b[38;5;66;03m# `avatar` is a dataset, and `character` is one of it's columns\u001b[39;00m\n\u001b[0;32m----> 5\u001b[0m characters \u001b[38;5;241m=\u001b[39m Counter(\u001b[38;5;124m\"\u001b[39m\u001b[38;5;130;01m\\n\u001b[39;00m\u001b[38;5;124m\"\u001b[39m\u001b[38;5;241m+\u001b[39m \u001b[43mavatar\u001b[49m\u001b[38;5;241m.\u001b[39mcharacter\u001b[38;5;241m.\u001b[39mstr\u001b[38;5;241m.\u001b[39mupper()\u001b[38;5;241m.\u001b[39mstr\u001b[38;5;241m.\u001b[39mreplace(\u001b[38;5;124m'\u001b[39m\u001b[38;5;124m \u001b[39m\u001b[38;5;124m'\u001b[39m,\u001b[38;5;124m'\u001b[39m\u001b[38;5;124m.\u001b[39m\u001b[38;5;124m'\u001b[39m)\u001b[38;5;241m+\u001b[39m\u001b[38;5;124m\"\u001b[39m\u001b[38;5;124m:\u001b[39m\u001b[38;5;124m\"\u001b[39m)\n\u001b[1;32m      6\u001b[0m \u001b[38;5;66;03m# this code changes the type of the `character` column to `str`; then,\u001b[39;00m\n\u001b[1;32m      7\u001b[0m \u001b[38;5;66;03m# makes the text uppercase, and replaces spaces with '.'\u001b[39;00m\n\u001b[1;32m      9\u001b[0m nested_dict \u001b[38;5;241m=\u001b[39m \u001b[38;5;28;01mlambda\u001b[39;00m: defaultdict(nested_dict)\n",
      "\u001b[0;31mNameError\u001b[0m: name 'avatar' is not defined"
     ]
    }
   ],
   "source": [
    "# Markovian Chatbot Extension #2\n",
    "\n",
    "from collections import Counter, defaultdict\n",
    "# `avatar` is a dataset, and `character` is one of it's columns\n",
    "characters = Counter(\"\\n\"+ avatar.character.str.upper().str.replace(' ','.')+\":\")\n",
    "# this code changes the type of the `character` column to `str`; then,\n",
    "# makes the text uppercase, and replaces spaces with '.'\n",
    "\n",
    "nested_dict = lambda: defaultdict(nested_dict)\n",
    "word_used2C = nested_dict()\n",
    "next_word2C = nested_dict()\n",
    "\n",
    "for i,word in enumerate(words[:-2]):\n",
    "    if word in characters:\n",
    "        character = word\n",
    "        \n",
    "    if character not in word_used2C:\n",
    "        word_used2C[character] = dict()\n",
    "    if word+' '+words[i+1] not in word_used2C[character]:\n",
    "        word_used2C[character][word+' '+words[i+1]] = 0\n",
    "    word_used2C[character][word+' '+words[i+1]] += 1\n",
    "    \n",
    "    if character not in next_word2C:\n",
    "        next_word2C[character] = dict()\n",
    "    if word+' '+words[i+1] not in next_word2C[character]:\n",
    "        next_word2C[character][word+' '+words[i+1]] = dict()\n",
    "    if words[i+2] not in next_word2C[character][word+' '+words[i+1]]:\n",
    "        next_word2C[character][word+' '+words[i+1]][words[i+2]] = 0\n",
    "    next_word2C[character][word+' '+words[i+1]][words[i+2]] += 1"
   ]
  },
  {
   "cell_type": "markdown",
   "id": "3884e0aa",
   "metadata": {},
   "source": [
    "## 1. GPT Understanding of Code Extensions\n",
    "\n",
    "When given extensions of the Markovian model of text generation, GPT gives the following response when prompted to provide an explanation: "
   ]
  },
  {
   "cell_type": "markdown",
   "id": "d828ee9b",
   "metadata": {},
   "source": [
    "### What's Happening in Extension #1:\n",
    "\n",
    "1. **Bigrams instead of Unigrams**:\n",
    "   - Instead of using individual words (`unigrams`) to track word transitions, this extension uses **bigrams** (pairs of two consecutive words). This means that the current \"state\" in the Markov model is now a pair of words, not just one.\n",
    "   \n",
    "2. **Data Structures**:\n",
    "   - `word_used2`: This `defaultdict(int)` counts how often a particular **pair of words** (bigram) appears in the dataset.\n",
    "   - `next_word2`: This is a nested `defaultdict` that tracks how often a **third word** follows a specific bigram.\n",
    "   \n",
    "3. **Loop**:\n",
    "   - The loop iterates through the list `words` but stops at the third-to-last word (`words[:-2]`), ensuring that there are always two following words to create a bigram and a third word for the next step.\n",
    "   - For each iteration:\n",
    "     - The pair of words (`word + ' ' + words[i+1]`) is treated as a **single entity** (bigram).\n",
    "     - `word_used2[word + ' ' + words[i+1]]` tracks how many times this bigram appears.\n",
    "     - `next_word2[word + ' ' + words[i+1]][words[i+2]]` records how many times the third word (`words[i+2]`) follows the bigram.\n",
    "\n",
    "#### Purpose of Extension #1:\n",
    "\n",
    "This extension moves from a **first-order** Markov model (where the next word depends only on the current word) to a **second-order** Markov model, where the next word depends on the **previous two words**. This approach can provide more contextual accuracy by considering a broader history when predicting the next word, allowing for more natural and coherent responses in text generation.\n",
    "\n",
    "---\n",
    "\n",
    "### What's Happening in Extension #2:\n",
    "\n",
    "1. **Introduction of `character` Context**:\n",
    "   - This extension adds a character-based context to the Markov chain model. The `characters` variable processes the `avatar.character` column, converting each character's name to uppercase and replacing spaces with periods.\n",
    "   - The character name is treated as an identifier or marker in the chatbot’s dataset.\n",
    "\n",
    "2. **Nested `defaultdict` for Multiple Characters**:\n",
    "   - `nested_dict`: A function that returns a `defaultdict` of itself. This allows for deeply nested dictionaries, useful for organizing the data under multiple layers (e.g., characters → bigrams → next words).\n",
    "   - `word_used2C` and `next_word2C` are **character-specific dictionaries** where data is organized by character names.\n",
    "\n",
    "3. **Loop and Logic**:\n",
    "   - The loop iterates through the list of words (similar to Extension #1), but with an additional layer of character context:\n",
    "     - The first `if word in characters:` checks if the current word is a character's name. If so, the `character` variable is updated to that word, associating the bigram and next word with the current character.\n",
    "     - **For each character**:\n",
    "       - `word_used2C[character][word + ' ' + words[i+1]]` tracks how many times a bigram (pair of words) is used in that character's speech or dialogue.\n",
    "       - `next_word2C[character][word + ' ' + words[i+1]][words[i+2]]` records how often the third word follows a bigram, but specifically **under the character’s name**.\n",
    "\n",
    "#### Purpose of Extension #2:\n",
    "\n",
    "This extension allows the chatbot to differentiate between word transitions based on **character context**. It is useful in cases where the chatbot interacts with multiple personas or characters, and their speech patterns may differ. By tracking bigrams and next words for each character, the model can generate text that is more **character-specific**, adapting the language based on who is speaking.\n",
    "\n",
    "### Overall Goal:\n",
    "Both extensions aim to add more complexity and context to the Markovian model:\n",
    "- **Extension #1**: Moves from a first-order to a second-order Markov model by considering bigrams.\n",
    "- **Extension #2**: Adds a character-specific dimension, allowing the model to differentiate speech patterns or word transitions for different characters."
   ]
  },
  {
   "cell_type": "markdown",
   "id": "6457a32b",
   "metadata": {},
   "source": [
    "Overall, GPT does an excellent job identifying the changes in the code and explaining them. It correctly pointed out that extension one looks two words ahead in making the dictionaries for each word used, essentially creating a pair of successive words for each word in a sequence. As GPT explained, this **bigram** model provides greater context and makes the generated text more sensible.\n",
    "\n",
    "GPT not only correctly identified that extension two also uses a bigram model, but also explained how it introduced additional context by tracking the character's bigram sequencing. This allows for character-specific dialogue."
   ]
  },
  {
   "cell_type": "markdown",
   "id": "9254bc4a",
   "metadata": {},
   "source": [
    "## 2. Code Details\n",
    "\n",
    "While extension 1 was fairly straight forward, extension 2 was still confusing, so I prompted GPT with some questions, specifically how bigrams are stored under character-specific dictionaries. Below is a summary of the dialogue."
   ]
  },
  {
   "cell_type": "markdown",
   "id": "136436ca",
   "metadata": {},
   "source": [
    "### Session Summary: Understanding Extension 2 of the Markovian Chatbot\n",
    "\n",
    "In this session, we delved into **Extension 2** of the Markovian chatbot, which enhances the model by adding **character-specific bigram chains**. The goal of this extension is to track how words are used by each character independently, allowing the chatbot to generate personalized and contextually accurate dialogue for multiple personas.\n",
    "\n",
    "#### Key Features of Extension 2:\n",
    "\n",
    "1. **Character Identification**:\n",
    "   - The model recognizes when a character's name appears in the text by referencing a dataset (`characters`). When it encounters a character name, it updates the context to reflect that character, indicating that subsequent words should be tracked as part of that character’s dialogue.\n",
    "\n",
    "2. **Bigram Chains for Each Character**:\n",
    "   - After identifying a character, the model begins forming **bigrams** (pairs of consecutive words) from their speech. The model records how often each bigram occurs in **`word_used2C`** and tracks what the next word is after each bigram in **`next_word2C`**.\n",
    "   - This forms a **second-order Markov chain** for each character, allowing the chatbot to predict the third word based on the previous two words spoken by that specific character. The word transitions are stored separately for each character, meaning that the model maintains independent chains for every speaker.\n",
    "\n",
    "3. **Tracking New Bigrams**:\n",
    "   - As the text progresses, each new bigram (two consecutive words) generates a new entry for the character’s chain. The third word that follows the bigram is then tracked under that character’s data. This continues for all word sequences spoken by the character until another character is introduced.\n",
    "\n",
    "4. **Switching Between Characters**:\n",
    "   - When a new character’s name appears in the text, the context **resets** to that new character, and the process starts over. The model begins creating a new bigram chain for the new character, keeping the word transitions distinct between speakers. This ensures that each character’s speech patterns are captured independently, preserving their unique dialogue style.\n",
    "\n",
    "#### Example Walkthrough:\n",
    "We worked through an example using the text `\"BOBBY: Hi, I like to play basketball. JOE: So do I.\"` to illustrate how the chatbot tracks character-specific bigrams.\n",
    "\n",
    "- For **BOBBY**, the model identified bigrams like:\n",
    "  - `\"Hi I\" → \"like\"`\n",
    "  - `\"I like\" → \"to\"`\n",
    "  - `\"like to\" → \"play\"`\n",
    "  - `\"to play\" → \"basketball\"`\n",
    "\n",
    "- When **JOE** started speaking, the model switched context and recorded a new bigram chain for him:\n",
    "  - `\"So do\" → \"I\"`\n",
    "\n",
    "This process shows how Extension 2 allows the chatbot to generate responses based on character-specific dialogue sequences, making the chatbot character-aware and capable of producing more natural and relevant responses based on the unique speech patterns of each individual character.\n",
    "\n",
    "### Conclusion:\n",
    "Extension 2 transforms the Markovian chatbot by creating distinct **bigram chains** for each character in the dataset. This extension improves the chatbot’s ability to generate more personalized and contextually relevant dialogue by ensuring that word transitions are tracked separately for each character. By switching contexts when a new character speaks, the model maintains separate chains, ensuring that each speaker's unique word patterns are accurately represented in future text generation."
   ]
  },
  {
   "cell_type": "markdown",
   "id": "c3b5f8dd",
   "metadata": {},
   "source": [
    "## 3. GPT Experiment: Complex Extension Model"
   ]
  },
  {
   "cell_type": "markdown",
   "id": "b3590d03",
   "metadata": {},
   "source": [
    "Getting Chat-GPT to accurately provide an explanation of Extension 2 was far more difficult than expected. It took approximately 15 minutes of back-and-forth dialogue, including hinting the ChatBot, for it to finally understand the purpose of the model. The session summary below, provided by the ChatBot, explains misconceptions, misunderstandings, and finally, realizations of the code's purpose:"
   ]
  },
  {
   "cell_type": "markdown",
   "id": "7e595685",
   "metadata": {},
   "source": [
    "### Summary of the Session\n",
    "\n",
    "#### Initial Confusion\n",
    "\n",
    "1. **Trigrams vs. Bigrams**:\n",
    "   - **Misunderstanding**: Initially, there was confusion about whether the code was handling trigrams or bigrams. Trigrams involve a sequence of three words, while bigrams involve two-word sequences.\n",
    "   - **Clarification**: It was established that the code was not handling trigrams but was focused on tracking bigrams and their subsequent words.\n",
    "\n",
    "2. **Character Count and Filtering**:\n",
    "   - **Misinterpretation**: There was an initial misinterpretation regarding the role of the `characters` Counter, which was thought to be for filtering or processing data.\n",
    "   - **Clarification**: The correct role was identified as helping to manage and differentiate dialogue contexts for each character.\n",
    "\n",
    "3. **Code Purpose and Structure**:\n",
    "   - **Initial Misunderstanding**: The purpose of tracking next words and character-specific transitions was not clear. The focus was mistakenly on whether the code tracked trigrams, rather than understanding its true function.\n",
    "\n",
    "#### Correct Understanding of the Code\n",
    "\n",
    "1. **Purpose of the `characters` Counter**:\n",
    "   - **Role**: Prepares a list of characters and their unique identifiers (e.g., `\"JANE:\"`, `\"JOHN:\"`) for accurate dialogue management.\n",
    "   - **Usage**: Helps in managing character-specific contexts by distinguishing which character is speaking.\n",
    "\n",
    "2. **Bigram Tracking (`word_used2C`)**:\n",
    "   - **Function**: Tracks occurrences of bigrams (sequences of two words) within each character’s dialogue.\n",
    "   - **Purpose**: Allows for capturing how often specific word pairs occur in each character’s speech.\n",
    "\n",
    "3. **Tracking Next Words (`next_word2C`)**:\n",
    "   - **Function**: Records which words follow a given bigram within each character’s dialogue.\n",
    "   - **Purpose**: Enables the chatbot to predict and manage transitions from one bigram to the next word, while also handling cases where the next word might be a character.\n",
    "\n",
    "4. **Character-Specific Contexts**:\n",
    "   - **Separation**: By keeping bigrams and transitions separate for each character, the code ensures accurate representation of each character’s unique dialogue patterns.\n",
    "   - **Benefit**: This separation maintains the authenticity of dialogue and reflects each character’s individual style, vocabulary, and cadence.\n",
    "\n",
    "#### Final Realization\n",
    "\n",
    "- **Actual Purpose of the Code**: The code tracks character-specific bigrams and transitions. It maintains separate models for each character to ensure that the chatbot can generate dialogue that accurately reflects each character’s unique speech patterns and interactions. The separation of dictionaries for each character helps in managing and generating contextually appropriate responses based on character-specific dialogue data.\n",
    "\n",
    "___"
   ]
  },
  {
   "cell_type": "markdown",
   "id": "d75a0289",
   "metadata": {},
   "source": [
    "# 6.  ChatBot Effectiveness"
   ]
  },
  {
   "cell_type": "markdown",
   "id": "907aa0d0",
   "metadata": {},
   "source": [
    "## 1. ChatBot Helpfullness for Homework 02\n",
    "\n",
    "Overall, Chat-GPT was extremely helpful in the above questions. Throughout this homework set, most of my experiences with GPT were used as supplementary guidance only after I explored the question myself.\n",
    "\n",
    "For example, I didn't quite understand how the Monty Hall simulation code actually functioned during my tutorial, even after the ChatBot demos. It was only after playing around with the code myself and asking GPT for clarification that I understood the code and how it related to the problem's statistical basis. \n",
    "\n",
    "The same sentiment followed for the Markovian ChatBot code. I understood the foundation and basics of the code from lecture, but Chat-GPT helped support my comprehension and clear up confusion, as shown in the previous session summaries. The only issue I faced with GPT was on Q. 5.3, where it was difficult for it to make the direct jump towards the complex extension of the Markovian model. However, every other question that required a ChatBot session was helpful and reliable\n",
    "\n",
    "Most importantly, GPT provided this help quickly. I probably could have found sufficient solutions through Piazza, tutors, or online forums, but GPT facilitates this help in an easy, quick manner. Of course, not everything GPT says is factual (although it is usually accurate), so I do confirm my results with my own experimentation, understanding, and research online."
   ]
  },
  {
   "cell_type": "markdown",
   "id": "c31ec492",
   "metadata": {},
   "source": [
    "## 2. ChatBot User Experience\n",
    "\n",
    "In my experience, the only frustration occurred during Q 5.3, as explained earlier, where Chat-GPT failed to correctly interpret Extension 2 of the Markovian ChatBot Model. More specifically, it could not identify the bigram model and chracter-specific model at the same time, although it could explain each of this when introduced in succession. A fair amount of back-and-forth with the ChatBot was required before it understood what the code was trying to accomplish.\n",
    "\n",
    "At the same time, I cannot deem this as unhelpful, as it seems that question was structured around showing the limitations of GPT in making large steps between code complexity; as well, the same explanation was correctly addressed in Q 5.1. "
   ]
  },
  {
   "cell_type": "markdown",
   "id": "82ff9b1d",
   "metadata": {},
   "source": [
    "## 3. Overall Assessment of ChatBots in STA130\n",
    "\n",
    "I have had an overall net positive experience with ChatBots in this course. While there are risks in becoming too dependant on ChatBots, I feel the way this course is structured has made them beneficial, especially in introductory-level Statistics. That is, rather than being overly occupied in the syntax, semantics, and demands of programming in Python, I have been able to use Chat-GPT as a supplemental source for programming so that I can truly understand the statistical relevance in each problem or concept.\n",
    "\n",
    "Additionally, GPT has been a quick, reliable source for re-explaining or filling in the gaps of certain topics covered in lectures and/or tutorials, such as survivorship bias.\n",
    "\n",
    "___"
   ]
  },
  {
   "cell_type": "markdown",
   "id": "44df8768",
   "metadata": {},
   "source": [
    "# 7. ChatBot Reflection in STA130\n",
    "\n",
    "Throughout the first two weeks of this course, I found the ChatBots to be a helpful tool in supplementing information, whether it be purely Statistical or related to programming. As mentioned in Q.6, what I find most beneficial is the way this course is structured around ChatBots; prompts that are too general might not provide a sufficient response. Thus some level of prior knowledge is required before asking a question. This practice has reduced my sole reliance on the ChatBot as I must at least gain some surface-level knowledge of the code and what it is trying to accomplish before proceeding with a prompt. \n",
    "\n",
    "Additionally, when mentioned that a given prompt is intended for an assignment, the ChatBot gives a step-by-step detailed analysis that makes it increasingly easy for the user to reference and comprehend. Since utilizing these tools in this course, I've not only grown my own Statistical foundation of knowledge, but I've learned to use the resources given to me in order to maximize my own growth. Among this came the ability to leverage  ChatBots in order to apply Statistical models in Python. For example, asking Chat-GPT to give me a pre-lecture report on Markovian models of text generation helped me to experiment with these models, preparing me for the discussions to be had in class.\n",
    "\n",
    "___"
   ]
  },
  {
   "cell_type": "markdown",
   "id": "511b1d47",
   "metadata": {},
   "source": [
    "# 8. ChatBot Awareness and Application\n",
    "\n",
    "## 1 - 3. ChatBot Discussions\n",
    "\n",
    "### **Detailed Summary of the Session**\n",
    "\n",
    "**1. Importance of Key Skills:**\n",
    "\n",
    "- **Learning and Adaptability:**\n",
    "  - **Significance:** Essential for keeping pace with rapid technological changes and solving emerging problems.\n",
    "  - **Application:** Enables professionals to quickly acquire new skills, adjust to new tools and methodologies, and remain competitive in a dynamic field.\n",
    "\n",
    "- **Communication:**\n",
    "  - **Significance:** Vital for translating complex technical details into actionable insights for stakeholders.\n",
    "  - **Application:** Facilitates effective collaboration, project management, and ensures that technical solutions align with business needs and user requirements.\n",
    "\n",
    "- **Coding:**\n",
    "  - **Significance:** A fundamental skill for software development, involving the creation of applications, algorithms, and solving computational problems.\n",
    "  - **Application:** Coding skills are used to build software, automate processes, and implement complex algorithms, making it a core competency for software engineers and data scientists.\n",
    "\n",
    "- **Statistics & Data Analysis:**\n",
    "  - **Significance:** Crucial for interpreting data, building predictive models, and making informed decisions based on quantitative evidence.\n",
    "  - **Application:** Involves applying statistical methods to analyze datasets, derive insights, and guide decision-making processes across various fields.\n",
    "\n",
    "**2. Role of a Statistics Major in Quantitative Finance:**\n",
    "\n",
    "- **Statistical Models:**\n",
    "  - **Application:** Used to analyze financial data, develop trading strategies, and assess risk. Techniques include time series analysis, stochastic processes, and econometrics.\n",
    "  - **Impact:** Helps in creating models that predict market trends and optimize trading strategies based on historical data.\n",
    "\n",
    "- **Risk Management:**\n",
    "  - **Application:** Involves using statistical methods to model and manage financial risks, including credit risk, market risk, and operational risk.\n",
    "  - **Impact:** Techniques like Value at Risk (VaR) and stress testing help quantify and mitigate potential losses in financial portfolios.\n",
    "\n",
    "- **Algorithm Development:**\n",
    "  - **Application:** Contributes to developing and optimizing algorithms for trading and investment decisions.\n",
    "  - **Impact:** Utilizes statistical patterns and data-driven strategies to enhance the performance and efficiency of trading systems.\n",
    "\n",
    "**3. Software Engineering Roles:**\n",
    "\n",
    "- **Core SWE Responsibilities:**\n",
    "  - **Duties:** Includes designing, developing, testing, and maintaining software systems. Involves system architecture, coding, debugging, and applying best practices in software development.\n",
    "  - **Skills:** Requires proficiency in programming languages, understanding of software design principles, and familiarity with development tools and methodologies.\n",
    "\n",
    "- **Quantitative Software Engineer (Quant SWE):**\n",
    "  - **Duties:** Combines software engineering with quantitative finance knowledge to build and optimize financial models and systems. Involves developing algorithms, managing financial data, and integrating financial models into software applications.\n",
    "  - **Skills:** Requires expertise in both software development and quantitative finance, including programming skills and knowledge of financial markets.\n",
    "\n",
    "**4. Skills for SWE and Analyst Roles:**\n",
    "\n",
    "- **For SWE Roles:**\n",
    "  - **Technical Skills:** Proficiency in programming languages (e.g., Python, Java, C++), software development practices, and system design.\n",
    "  - **Software Engineering Principles:** Understanding of algorithms, data structures, design patterns, and software lifecycle management.\n",
    "\n",
    "- **For Analyst Roles:**\n",
    "  - **Data Analysis Skills:** Expertise in statistical analysis, data cleaning, and visualization. Proficiency with tools and languages like R, Python, or Excel.\n",
    "  - **Domain Knowledge:** Insight into the specific industry or field where data analysis is applied, such as finance, healthcare, or marketing.\n",
    "\n",
    "- **Unique Skills to Stand Out:**\n",
    "  - **Domain Expertise:** Specialized knowledge in a particular field enhances the application of technical skills to relevant problems.\n",
    "  - **Data Visualization:** Ability to create insightful and clear visual representations of data to communicate findings effectively.\n",
    "  - **Leadership and Initiative:** Demonstrating leadership qualities and taking proactive roles in projects can set you apart.\n",
    "  - **Innovation:** Developing creative solutions and new approaches to problem-solving can enhance your value as a candidate.\n",
    "\n",
    "**5. Benefits of a Statistics Degree:**\n",
    "\n",
    "- **Analytical Skills:**\n",
    "  - **Benefit:** Advanced capabilities in statistical analysis, hypothesis testing, and predictive modeling.\n",
    "  - **Application:** Provides a strong foundation for interpreting complex data and deriving actionable insights.\n",
    "\n",
    "- **Understanding Uncertainty:**\n",
    "  - **Benefit:** Ability to assess and manage uncertainty in decision-making processes.\n",
    "  - **Application:** Helps in making informed decisions and understanding the limitations and risks associated with data and models.\n",
    "\n",
    "- **Quantitative Analysis:**\n",
    "  - **Benefit:** Proficiency in conducting complex quantitative analyses and interpreting results.\n",
    "  - **Application:** Useful for research, data analysis, and applications in various fields, from finance to healthcare.\n",
    "\n",
    "**6. Advantages of Combining Statistics with Computer Science:**\n",
    "\n",
    "- **Enhanced Data Analysis:**\n",
    "  - **Advantage:** Integrates statistical modeling with software development to create advanced data-driven solutions.\n",
    "  - **Example:** Developing analytics tools or platforms that utilize statistical methods for better data interpretation.\n",
    "\n",
    "- **Machine Learning and AI:**\n",
    "  - **Advantage:** Combines statistical principles with programming skills to develop and deploy machine learning models.\n",
    "  - **Example:** Building predictive models or AI systems that leverage both statistical techniques and software engineering.\n",
    "\n",
    "- **Versatility Across Industries:**\n",
    "  - **Advantage:** Applicable in diverse fields where both statistical analysis and software development are valuable.\n",
    "  - **Example:** Working in finance, healthcare, or technology with skills that span both data analysis and software development.\n",
    "\n",
    "- **Improved Problem-Solving:**\n",
    "  - **Advantage:** Rigorous approach to solving complex problems using both statistical methods and software engineering.\n",
    "  - **Example:** Developing solutions that integrate statistical analysis with software applications to address complex issues.\n",
    "\n",
    "- **Advanced Data Handling:**\n",
    "  - **Advantage:** Skills in managing large datasets, building scalable data pipelines, and performing sophisticated analyses.\n",
    "  - **Example:** Creating systems that handle big data efficiently and apply advanced statistical methods.\n",
    "\n",
    "**7. Coding as a Necessary Skill:**\n",
    "\n",
    "- **For Statisticians:**\n",
    "  - **Application:** Coding is not always essential, as many traditional statistical tasks can be performed using GUI-based software like SPSS, SAS, or Minitab. However, coding skills can enhance a statistician's ability to perform advanced analyses, automate processes, and handle larger datasets.\n",
    "\n",
    "- **For Software Engineering Roles:**\n",
    "  - **Necessity:** Coding is fundamental, involving the development of software applications, algorithms, and computational solutions.\n",
    "\n",
    "- **For Analyst Roles:**\n",
    "  - **Beneficial:** Coding can aid in data manipulation, automation, and implementation of statistical models, though it is not always required for basic analytical tasks.\n",
    "\n",
    "- **In General Context:**\n",
    "  - **Value:** Coding skills increase versatility and capability to handle data-driven tasks, automate processes, and develop advanced solutions.\n",
    "\n",
    "This detailed summary provides an overview of how a Statistics and Computer Science double major can enhance career prospects in various fields, including software engineering, data science, and quantitative finance.\n",
    "\n"
   ]
  }
 ],
 "metadata": {
  "kernelspec": {
   "display_name": "Python 3 (ipykernel)",
   "language": "python",
   "name": "python3"
  },
  "language_info": {
   "codemirror_mode": {
    "name": "ipython",
    "version": 3
   },
   "file_extension": ".py",
   "mimetype": "text/x-python",
   "name": "python",
   "nbconvert_exporter": "python",
   "pygments_lexer": "ipython3",
   "version": "3.11.6"
  }
 },
 "nbformat": 4,
 "nbformat_minor": 5
}
